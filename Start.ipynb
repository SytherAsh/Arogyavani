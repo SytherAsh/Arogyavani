{
 "cells": [
  {
   "cell_type": "code",
   "execution_count": 441,
   "id": "345b2d7e-ffa6-468c-a96a-51829bfe43a6",
   "metadata": {},
   "outputs": [],
   "source": [
    "import pandas as pd\n",
    "import matplotlib.pyplot as plt\n",
    "import numpy as np\n",
    "import joblib"
   ]
  },
  {
   "cell_type": "markdown",
   "id": "87b306e8-50a8-4ce6-8831-8960acb04aaa",
   "metadata": {},
   "source": [
    "Reading Data set\n",
    "=="
   ]
  },
  {
   "cell_type": "code",
   "execution_count": 244,
   "id": "afc782e5-6581-451f-b62b-0ff340a787d5",
   "metadata": {},
   "outputs": [],
   "source": [
    "# df_read=pd.read_csv('training.csv')\n",
    "# df_read.columns=df.columns.str.replace(' ','')\n",
    "# df_read.sort_values(['Disease'],ascending=True,inplace=True)\n",
    "# df_read.reset_index(drop=True,inplace=True)\n",
    "# # df_read.Disease.unique()\n",
    "# df_read.to_csv('Training_read.csv')"
   ]
  },
  {
   "cell_type": "markdown",
   "id": "e5a6b02a-3476-4e2b-a17a-4dcbf7ac20ce",
   "metadata": {},
   "source": [
    "Training Data set\n",
    "="
   ]
  },
  {
   "cell_type": "code",
   "execution_count": 290,
   "id": "e96e965f-85e4-42fa-a1f8-235c4b65d2a1",
   "metadata": {},
   "outputs": [],
   "source": [
    "df=pd.read_csv('training.csv')\n",
    "df.columns=df.columns.str.replace(' ','')\n",
    "# df.head()\n",
    "# df.columns"
   ]
  },
  {
   "cell_type": "markdown",
   "id": "2138785a-88a1-4f83-a21a-96d5df079eb3",
   "metadata": {},
   "source": [
    "Hot Encoding/ Sym/Diseases\n",
    "="
   ]
  },
  {
   "cell_type": "code",
   "execution_count": 419,
   "id": "1de379da-4add-4774-85cf-12df304e63de",
   "metadata": {},
   "outputs": [
    {
     "data": {
      "text/plain": [
       "array([ 7,  7,  7,  7,  7, 14, 14, 14, 14, 14, 17, 17, 17, 17, 17,  8,  8,\n",
       "        8,  8,  8, 10, 10, 10, 10, 10, 18, 18, 18, 18, 18,  3,  3,  3,  3,\n",
       "        3, 11, 11, 11, 11, 11,  4,  4,  4,  4,  4,  6,  6,  6,  6,  6,  2,\n",
       "        2,  2,  2,  2, 16, 16, 16, 16, 16,  5,  5,  5,  5,  5, 12, 12, 12,\n",
       "       12, 12, 13, 13, 13, 13, 13,  1,  1,  1,  1,  1,  0,  0,  0,  0,  0,\n",
       "        9,  9,  9,  9,  9, 15, 15, 15, 15, 15,  7,  0, 15, 14, 17,  3, 13,\n",
       "       10,  4,  8, 11,  7, 12, 15, 18, 11,  4, 15, 13,  3, 13,  4,  6,  8,\n",
       "       15, 10, 12,  6, 18, 11,  4, 11, 12, 11,  7, 15,  3, 17, 11,  3, 12,\n",
       "        3, 11, 13,  3, 11,  4,  3,  6,  3, 10,  4,  6, 11, 11,  6, 10,  3,\n",
       "        3, 17, 11, 12, 15, 10, 13,  7, 11,  4, 11, 10, 11, 11, 15,  3,  3,\n",
       "       10,  3, 15, 11,  4, 13, 11,  3, 10, 15, 10, 15, 11,  3, 15,  3, 10,\n",
       "       11, 11,  3, 11,  4,  3, 12,  3, 15, 11,  3,  3, 15, 11,  3,  3, 11,\n",
       "       11, 12,  3, 10, 11,  3,  7, 11,  4, 11,  3, 15,  3, 11],\n",
       "      dtype=int64)"
      ]
     },
     "execution_count": 419,
     "metadata": {},
     "output_type": "execute_result"
    }
   ],
   "source": [
    "# from sklearn.preprocessing import LabelEncoder\n",
    "# le=LabelEncoder()\n",
    "\n",
    "# dfle=df\n",
    "# dfle['Disease']=le.fit_transform(dfle['Disease'])\n",
    "# # le.fit_transform(dfle['Disease'])\n",
    "\n",
    "# x=df.Disease.nunique()\n",
    "# # for i in range(x):\n",
    "#     # print(f\"{i} {le.transform(le.classes_)} \")\n",
    "\n",
    "# print(le.classes_,end='\\n')\n",
    "# print(le.transform(le.classes_))\n",
    "diseases_name=['Acne', 'Asthma', 'Bronchitis', 'Chikungunya', 'Cholera', 'Common Cold', 'Common Respiratory Infection', 'DengueFever', 'Diabetes',\n",
    " 'Eczema', 'Hypertension(HighBloodPressure)', 'Jaundice(HepatitisA)', 'Joint Inflammation', 'KidneyStones', 'Malaria',\n",
    " 'Psoriasis', 'Stress Induced Fatigue', 'Tuberculosis(TB)', 'TyphoidFever']\n",
    "\n",
    "Symptom=['fever', 'headache', 'jointpain', 'musclepain', 'vomiting', 'skinrash', 'highbloodpressure', 'chestpain', 'weightloss', 'cough',\n",
    " 'fatigue','shortnessofbreath','yellowingofskin','abdominalpain', 'diarrhea', 'itching', 'dryskin',\n",
    " 'skinlesions', 'redness', 'swelling', 'blistering', 'scaling', 'bleeding', 'discoloration']\n",
    "\n",
    "df.replace({'Disease':{'DengueFever':7,'Malaria':14,'Tuberculosis(TB)':17,'Diabetes':8,'Hypertension(HighBloodPressure)':10,\n",
    "    'TyphoidFever':18,'Chikungunya':3,'Jaundice(HepatitisA)':11,'Cholera':4,'Common Respiratory Infection':6,'Bronchitis':2,\n",
    "    'Stress Induced Fatigue':16,'Common Cold':5,\n",
    "    'Joint Inflammation':12,'KidneyStones':13,'Asthma':1,'Acne':0,'Eczema':9,'Psoriasis':15}},inplace=True)\n",
    "\n",
    "\n",
    "X=df[Symptom]\n",
    "y=df[[\"Disease\"]]\n",
    "np.ravel(y)\n",
    "# print(y)\n",
    "\n",
    "# df.head()\n",
    "# y"
   ]
  },
  {
   "cell_type": "markdown",
   "id": "f799cd1e-2bcf-43c0-a3f7-bbfe04878ce9",
   "metadata": {},
   "source": [
    "Scatter Plot"
   ]
  },
  {
   "cell_type": "code",
   "execution_count": 301,
   "id": "79ec6f4f-1808-4959-9bef-8b24f2c6eae2",
   "metadata": {},
   "outputs": [],
   "source": [
    "def scatter(disea):\n",
    "    x=(df.loc[df.Disease == disea].sum())\n",
    "    # x=df.loc[df.Disease == 'DengueFever'].values\n",
    "    \n",
    "    x.drop(x[x== 0].index,inplace=True )\n",
    "    print(x)\n",
    "    y=x.keys()\n",
    "    print(y)\n",
    "    print(len(x))\n",
    "    print(len(y))\n",
    "    print(x.values)\n",
    "    print(y)\n",
    "        \n",
    "    plt.figure(figsize=[10,8])\n",
    "    plt.title(\"MAPPING\")\n",
    "    plt.scatter(y,x.values)\n",
    "    plt.xticks(\"\")\n",
    "    plt.show()\n",
    "\n"
   ]
  },
  {
   "cell_type": "markdown",
   "id": "039b50b2-2217-4efe-a1a7-5b39384c00b2",
   "metadata": {},
   "source": [
    "Testing data set\n",
    "="
   ]
  },
  {
   "cell_type": "code",
   "execution_count": 392,
   "id": "4fbec2ab-2bef-4051-8bd4-02b89895764f",
   "metadata": {},
   "outputs": [
    {
     "data": {
      "text/plain": [
       "array([ 7, 14, 17,  8, 10, 18,  3, 11,  4,  6,  2, 16,  5, 12, 13,  1,  0,\n",
       "        9, 15], dtype=int64)"
      ]
     },
     "execution_count": 392,
     "metadata": {},
     "output_type": "execute_result"
    }
   ],
   "source": [
    "Df=pd.read_csv('Testing.csv')\n",
    "Df.columns=Df.columns.str.replace(' ','')\n",
    "\n",
    "Df.replace({'Disease':{'DengueFever':7,'Malaria':14,'Tuberculosis(TB)':17,'Diabetes':8,'Hypertension(HighBloodPressure)':10,\n",
    "    'TyphoidFever':18,'Chikungunya':3,'Jaundice(HepatitisA)':11,'Cholera':4,'Common Respiratory Infection':6,'Bronchitis':2,\n",
    "    'Stress Induced Fatigue':16,'Common Cold':5,\n",
    "    'Joint Inflammation':12,'KidneyStones':13,'Asthma':1,'Acne':0,'Eczema':9,'Psoriasis':15}},inplace=True)\n",
    "\n",
    "\n",
    "Symptom=['fever', 'headache', 'jointpain', 'musclepain', 'vomiting', 'skinrash', 'highbloodpressure', 'chestpain', 'weightloss', 'cough',\n",
    " 'fatigue','shortnessofbreath','yellowingofskin','abdominalpain', 'diarrhea', 'itching', 'dryskin',\n",
    " 'skinlesions', 'redness', 'swelling', 'blistering', 'scaling', 'bleeding', 'discoloration']\n",
    "\n",
    "\n",
    "X_test= Df[Symptom]\n",
    "y_test = Df[[\"Disease\"]]\n",
    "np.ravel(y_test)\n",
    "# print(X_test)\n",
    "\n"
   ]
  },
  {
   "cell_type": "markdown",
   "id": "4bcf0e75-8c65-4ee3-bbcd-f20e8df0c31c",
   "metadata": {},
   "source": [
    "Prediction Model\n",
    "="
   ]
  },
  {
   "cell_type": "code",
   "execution_count": 448,
   "id": "5c4d5e5b-28d5-4331-9664-44e5fc723b51",
   "metadata": {},
   "outputs": [],
   "source": [
    "from sklearn import tree\n",
    "from sklearn.metrics import classification_report, confusion_matrix, accuracy_score\n",
    "import sqlite3\n",
    "def Decision_model():\n",
    "    clf3 = tree.DecisionTreeClassifier()\n",
    "    clf3 = clf3.fit(X, y)\n",
    "    y_pred = clf3.predict(X_test)\n",
    "    \n",
    "    print(\"Decision Tree\")\n",
    "    print(\"Accuracy\")\n",
    "    print(accuracy_score(y_test, y_pred))\n",
    "    print(accuracy_score(y_test, y_pred, normalize=False))\n",
    "    \n",
    "    print(\"Confusion matrix\")\n",
    "    conf_matrix = confusion_matrix(y_test, y_pred)\n",
    "    print(conf_matrix)\n",
    "\n",
    "# print(y_pred)\n",
    "# print(y_test)\n",
    "# for i in y_pred:\n",
    "#     print(diseases_name[i])\n",
    "\n"
   ]
  },
  {
   "cell_type": "markdown",
   "id": "3b73550b-8b70-4c1e-95a6-18bf4f4f1f41",
   "metadata": {},
   "source": [
    "Decision Tree\n",
    "="
   ]
  },
  {
   "cell_type": "code",
   "execution_count": 385,
   "id": "18df39f1-944f-4ed2-a7ca-759fbe93f8e3",
   "metadata": {},
   "outputs": [
    {
     "name": "stdout",
     "output_type": "stream",
     "text": [
      "Decision Tree\n",
      "Accuracy\n",
      "0.8421052631578947\n",
      "16.0\n"
     ]
    }
   ],
   "source": [
    "print(\"Decision Tree\")\n",
    "print(\"Accuracy\")\n",
    "print(accuracy_score(y_test, y_pred))\n",
    "print(accuracy_score(y_test, y_pred, normalize=False))"
   ]
  },
  {
   "cell_type": "markdown",
   "id": "11036a82-1644-43e2-a188-9b5884e9787f",
   "metadata": {},
   "source": [
    "Confusion Tree\n",
    "="
   ]
  },
  {
   "cell_type": "code",
   "execution_count": 386,
   "id": "23d9c640-8e24-469e-a3a4-b93cfea981a4",
   "metadata": {},
   "outputs": [
    {
     "name": "stdout",
     "output_type": "stream",
     "text": [
      "Confusion matrix\n",
      "[[0 0 0 0 0 0 0 0 0 1 0 0 0 0 0 0 0 0 0]\n",
      " [0 1 0 0 0 0 0 0 0 0 0 0 0 0 0 0 0 0 0]\n",
      " [0 0 1 0 0 0 0 0 0 0 0 0 0 0 0 0 0 0 0]\n",
      " [0 0 0 1 0 0 0 0 0 0 0 0 0 0 0 0 0 0 0]\n",
      " [0 0 0 0 1 0 0 0 0 0 0 0 0 0 0 0 0 0 0]\n",
      " [0 0 0 0 0 0 0 0 1 0 0 0 0 0 0 0 0 0 0]\n",
      " [0 0 0 0 0 0 1 0 0 0 0 0 0 0 0 0 0 0 0]\n",
      " [0 0 0 0 0 0 0 1 0 0 0 0 0 0 0 0 0 0 0]\n",
      " [0 0 0 0 0 0 0 0 0 0 0 0 0 0 0 0 1 0 0]\n",
      " [0 0 0 0 0 0 0 0 0 1 0 0 0 0 0 0 0 0 0]\n",
      " [0 0 0 0 0 0 0 0 0 0 1 0 0 0 0 0 0 0 0]\n",
      " [0 0 0 0 0 0 0 0 0 0 0 1 0 0 0 0 0 0 0]\n",
      " [0 0 0 0 0 0 0 0 0 0 0 0 1 0 0 0 0 0 0]\n",
      " [0 0 0 0 0 0 0 0 0 0 0 0 0 1 0 0 0 0 0]\n",
      " [0 0 0 0 0 0 0 0 0 0 0 0 0 0 1 0 0 0 0]\n",
      " [0 0 0 0 0 0 0 0 0 0 0 0 0 0 0 1 0 0 0]\n",
      " [0 0 0 0 0 0 0 0 0 0 0 0 0 0 0 0 1 0 0]\n",
      " [0 0 0 0 0 0 0 0 0 0 0 0 0 0 0 0 0 1 0]\n",
      " [0 0 0 0 0 0 0 0 0 0 0 0 0 0 0 0 0 0 1]]\n"
     ]
    }
   ],
   "source": [
    "print(\"Confusion matrix\")\n",
    "conf_matrix = confusion_matrix(y_test, y_pred)\n",
    "print(conf_matrix)\n"
   ]
  },
  {
   "cell_type": "code",
   "execution_count": null,
   "id": "3a2c6ef6-0e6b-43fc-b47c-17e279ba37ae",
   "metadata": {},
   "outputs": [],
   "source": []
  },
  {
   "cell_type": "markdown",
   "id": "524db994-2563-489b-bf38-e85a788a3b9d",
   "metadata": {},
   "source": [
    "Other \n",
    "="
   ]
  },
  {
   "cell_type": "markdown",
   "id": "78a7632d-f776-4f12-81c9-af1810fb3bb7",
   "metadata": {},
   "source": [
    "Output the Final Diseases\n",
    "="
   ]
  },
  {
   "cell_type": "code",
   "execution_count": 408,
   "id": "aef665fb-e002-4195-b014-251594332a8e",
   "metadata": {},
   "outputs": [
    {
     "name": "stdout",
     "output_type": "stream",
     "text": [
      "[0, 0, 0, 0, 0, 0, 0, 0, 0, 0, 0, 0, 0, 0, 0, 0, 0, 0, 0, 0, 0, 0, 0, 0]\n",
      "Predicted disease:  Asthma\n"
     ]
    },
    {
     "name": "stderr",
     "output_type": "stream",
     "text": [
      "C:\\Users\\yashs\\anaconda3\\Lib\\site-packages\\sklearn\\base.py:493: UserWarning: X does not have valid feature names, but DecisionTreeClassifier was fitted with feature names\n",
      "  warnings.warn(\n"
     ]
    }
   ],
   "source": [
    "\n",
    "l2 = [0] * len(l1)\n",
    "\n",
    "psymptoms = []\n",
    "\n",
    "for symptom in psymptoms:\n",
    "    if symptom in l1:\n",
    "        print(l1.index(symptom))\n",
    "        l2[l1.index(symptom)] = 1\n",
    "# print(l2)\n",
    "inputtest = [l2]\n",
    "predict = clf3.predict(inputtest)\n",
    "# print(predict)\n",
    "predicted = predict[0]\n",
    "# print(diseases_name[predicted])\n",
    "\n",
    "\n",
    "h = 'no'\n",
    "for a in range(0, len(diseases_name)):\n",
    "    if predicted == a:\n",
    "        h = 'yes'\n",
    "        break\n",
    "\n",
    "if h == 'yes':\n",
    "    pred1 = diseases_name[a]\n",
    "else:\n",
    "    pred1 = \"Not Found\"\n",
    "print(\"Predicted disease: \", pred1) "
   ]
  },
  {
   "cell_type": "code",
   "execution_count": 449,
   "id": "0397ebf6-d906-4925-ad4d-23ca51e74004",
   "metadata": {},
   "outputs": [
    {
     "name": "stdout",
     "output_type": "stream",
     "text": [
      "Decision Tree\n",
      "Accuracy\n",
      "0.8421052631578947\n",
      "16.0\n",
      "Confusion matrix\n",
      "[[0 0 0 0 0 0 0 0 0 1 0 0 0 0 0 0 0 0 0]\n",
      " [0 1 0 0 0 0 0 0 0 0 0 0 0 0 0 0 0 0 0]\n",
      " [0 0 1 0 0 0 0 0 0 0 0 0 0 0 0 0 0 0 0]\n",
      " [0 0 0 1 0 0 0 0 0 0 0 0 0 0 0 0 0 0 0]\n",
      " [0 0 0 0 1 0 0 0 0 0 0 0 0 0 0 0 0 0 0]\n",
      " [0 0 0 0 0 0 0 0 1 0 0 0 0 0 0 0 0 0 0]\n",
      " [0 0 0 0 0 0 1 0 0 0 0 0 0 0 0 0 0 0 0]\n",
      " [0 0 0 0 0 0 0 1 0 0 0 0 0 0 0 0 0 0 0]\n",
      " [0 0 0 0 0 0 0 0 0 0 0 0 0 0 0 0 1 0 0]\n",
      " [0 0 0 0 0 0 0 0 0 1 0 0 0 0 0 0 0 0 0]\n",
      " [0 0 0 0 0 0 0 0 0 0 1 0 0 0 0 0 0 0 0]\n",
      " [0 0 0 0 0 0 0 0 0 0 0 1 0 0 0 0 0 0 0]\n",
      " [0 0 0 0 0 0 0 0 0 0 0 0 1 0 0 0 0 0 0]\n",
      " [0 0 0 0 0 0 0 0 0 0 0 0 0 1 0 0 0 0 0]\n",
      " [0 0 0 0 0 0 0 0 0 0 0 0 0 0 1 0 0 0 0]\n",
      " [0 0 0 0 0 0 0 0 0 0 0 0 0 0 0 1 0 0 0]\n",
      " [0 0 0 0 0 0 0 0 0 0 0 0 0 0 0 0 1 0 0]\n",
      " [0 0 0 0 0 0 0 0 0 0 0 0 0 0 0 0 0 1 0]\n",
      " [0 0 0 0 0 0 0 0 0 0 0 0 0 0 0 0 0 0 1]]\n"
     ]
    },
    {
     "data": {
      "text/plain": [
       "['DecisionTree.pkl']"
      ]
     },
     "execution_count": 449,
     "metadata": {},
     "output_type": "execute_result"
    }
   ],
   "source": [
    "model=Decision_model()\n",
    "joblib.dump(model,'DecisionTree.pkl')"
   ]
  },
  {
   "cell_type": "code",
   "execution_count": 451,
   "id": "5ddf1f3f-d815-42ba-8f0c-5a437611d8aa",
   "metadata": {},
   "outputs": [],
   "source": [
    "load_model=joblib.load('DecisionTree.pkl')"
   ]
  },
  {
   "cell_type": "code",
   "execution_count": null,
   "id": "1b429a30-039a-468e-b3ad-844b71b8fd37",
   "metadata": {},
   "outputs": [],
   "source": []
  },
  {
   "cell_type": "code",
   "execution_count": null,
   "id": "b9fe5434-9608-4499-8428-0845a35f9170",
   "metadata": {},
   "outputs": [],
   "source": []
  },
  {
   "cell_type": "code",
   "execution_count": 387,
   "id": "c4f0f015-0154-48a4-8d8f-faa92cce066c",
   "metadata": {},
   "outputs": [],
   "source": [
    "# df.set_index('Disease',inplace=True)\n",
    "# df.sort_values(['Disease'],ascending=True,inplace=True)\n",
    "# df.reset_index(inplace=True)\n"
   ]
  },
  {
   "cell_type": "code",
   "execution_count": 388,
   "id": "de5075a0-9a03-4df3-ac81-0626b888fb8d",
   "metadata": {},
   "outputs": [],
   "source": [
    "# x=df['Disease'].apply(lambda x:x.lower())\n",
    "info={'DengueFever':7,'Malaria':14,'Tuberculosis(TB)':17,'Diabetes':8,'Hypertension(HighBloodPressure)':10,\n",
    "    'TyphoidFever':18,'Chikungunya':3,'Jaundice(HepatitisA)':11,'Cholera':4,'Common Respiratory Infection':6,'Bronchitis':2,\n",
    "    'Stress Induced Fatigue':16,'Common Cold':5,\n",
    "    'Joint Inflammation':12,'KidneyStones':13,'Asthma':1,'Acne':0,'Eczema':9,'Psoriasis':15}\n",
    "new=sorted(info)\n"
   ]
  },
  {
   "cell_type": "code",
   "execution_count": 389,
   "id": "99a13bf6-b3a7-4811-9157-e50abc71bbb0",
   "metadata": {
    "scrolled": true
   },
   "outputs": [
    {
     "data": {
      "text/plain": [
       "'DengueFever'"
      ]
     },
     "execution_count": 389,
     "metadata": {},
     "output_type": "execute_result"
    }
   ],
   "source": [
    "rev_dict={value:key for key,value in info.items()}\n",
    "rev_dict.get(7)"
   ]
  },
  {
   "cell_type": "code",
   "execution_count": 455,
   "id": "4e5ae5c4-1f97-4d38-af47-342a46da287b",
   "metadata": {},
   "outputs": [
    {
     "name": "stdout",
     "output_type": "stream",
     "text": [
      "Index(['fever', 'headache', 'jointpain', 'musclepain', 'vomiting', 'skinrash',\n",
      "       'highbloodpressure', 'chestpain', 'weightloss', 'cough', 'fatigue',\n",
      "       'shortnessofbreath', 'yellowingofskin', 'abdominalpain', 'diarrhea',\n",
      "       'itching', 'dryskin', 'skinlesions', 'redness', 'swelling',\n",
      "       'blistering', 'scaling', 'bleeding', 'discoloration', 'Disease'],\n",
      "      dtype='object')\n"
     ]
    }
   ],
   "source": [
    "df_read\n",
    "# x=df.columns.unique()\n",
    "# print(x)"
   ]
  },
  {
   "cell_type": "code",
   "execution_count": 468,
   "id": "90f966f5-146d-4305-b385-75920dde1e2e",
   "metadata": {},
   "outputs": [
    {
     "name": "stderr",
     "output_type": "stream",
     "text": [
      "No artists with labels found to put in legend.  Note that artists whose label start with an underscore are ignored when legend() is called with no argument.\n"
     ]
    },
    {
     "data": {
      "image/png": "[encoded data removed]",
      "text/plain": [
       "<Figure size 800x500 with 1 Axes>"
      ]
     },
     "metadata": {},
     "output_type": "display_data"
    }
   ],
   "source": [
    "\n",
    "# df_read=pd.read_csv('training.csv')\n",
    "# df_read.columns=df.columns.str.replace(' ','')\n",
    "# df_read.sort_values(['Disease'],ascending=True,inplace=True)\n",
    "# df_read.reset_index(drop=True,inplace=True)\n",
    "# # df_read.Disease.unique()\n",
    "# df_read.to_csv('Training_read.csv')\n",
    "plt.figure(figsize=[8,5])\n",
    "\n",
    "\n",
    "plt.title(\"Diseases and Symptoms\",fontdict={'fontweight':'bold','fontsize':18})\n",
    "# plt.plot(x,df_,'r-*')\n",
    "# plt.plot(gas.Year,gas.USA,'b-*')\n",
    "# plt.plot(gas.Year,gas['South Korea'],'g-*')\n",
    "\n",
    "\n",
    "# plt.plot(gas.Year,gas.Italy,'r-*',label=\"Italy\")\n",
    "# plt.plot(gas.Year,gas.USA,'b-*',label=\"USA\")\n",
    "# plt.plot(gas.Year,gas['South Korea'],'g-*',label=\"South Korea\")\n",
    "\n",
    "\n",
    "symp=[]\n",
    "for i in df_read:\n",
    "    if(i != 'Disease'):\n",
    "        symp.append(i)\n",
    "\n",
    "# symp\n",
    "x=df_read['Disease']\n",
    "# for sy in symp:\n",
    "        # plt.plot(x,df[sy],marker='.')\n",
    "\n",
    "plt.plot(x,df[sy],marker='.')\n",
    "\n",
    "plt.xlabel(\"Disease\")\n",
    "plt.ylabel(\"Symptoms\")\n",
    "\n",
    "# #every 3rd year\n",
    "# # x=gas.Year[::3].tolist()+[2011] # adding extra year \n",
    "plt.xticks(\"\")\n",
    "\n",
    "plt.legend()\n",
    "\n",
    "# plt.savefig(\"GasPrices.png\",dpi=300)\n",
    "plt.show()"
   ]
  },
  {
   "cell_type": "code",
   "execution_count": null,
   "id": "806b5927-498f-49d2-a9d3-5399455f1c66",
   "metadata": {},
   "outputs": [],
   "source": []
  },
  {
   "cell_type": "code",
   "execution_count": null,
   "id": "c139bdf6-e726-43a0-8802-893446a20999",
   "metadata": {},
   "outputs": [],
   "source": []
  },
  {
   "cell_type": "code",
   "execution_count": null,
   "id": "fb1997e3-7d68-43f5-a060-077ae1115ce4",
   "metadata": {},
   "outputs": [],
   "source": [
    "\n"
   ]
  }
 ],
 "metadata": {
  "kernelspec": {
   "display_name": "Python 3",
   "language": "python",
   "name": "python3"
  },
  "language_info": {
   "codemirror_mode": {
    "name": "ipython",
    "version": 3
   },
   "file_extension": ".py",
   "mimetype": "text/x-python",
   "name": "python",
   "nbconvert_exporter": "python",
   "pygments_lexer": "ipython3",
   "version": "3.11.7"
  },
  "widgets": {
   "application/vnd.jupyter.widget-state+json": {
    "state": {},
    "version_major": 2,
    "version_minor": 0
   }
  }
 },
 "nbformat": 4,
 "nbformat_minor": 5
}
